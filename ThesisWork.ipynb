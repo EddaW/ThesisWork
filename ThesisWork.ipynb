{
 "cells": [
  {
   "cell_type": "markdown",
   "id": "24c75e29",
   "metadata": {},
   "source": [
    "# Context-aware Recommendation System"
   ]
  },
  {
   "cell_type": "code",
   "execution_count": 1,
   "id": "77fe239d",
   "metadata": {},
   "outputs": [],
   "source": [
    "import numpy as np \n",
    "import pandas as pd\n",
    "\n",
    "import matplotlib.pyplot as plt \n",
    "import seaborn as sns\n",
    "%matplotlib inline"
   ]
  },
  {
   "cell_type": "code",
   "execution_count": 3,
   "id": "1c9ee0c9",
   "metadata": {},
   "outputs": [],
   "source": [
    "transactions_df = pd.read_csv(r\"C:\\Users\\AdminPC\\Edda Stuff\\Edda Data Scientist\\Python Projects\\datasets\\transactions_train.csv\")"
   ]
  },
  {
   "cell_type": "code",
   "execution_count": 4,
   "id": "42d65478",
   "metadata": {},
   "outputs": [
    {
     "data": {
      "text/html": [
       "<div>\n",
       "<style scoped>\n",
       "    .dataframe tbody tr th:only-of-type {\n",
       "        vertical-align: middle;\n",
       "    }\n",
       "\n",
       "    .dataframe tbody tr th {\n",
       "        vertical-align: top;\n",
       "    }\n",
       "\n",
       "    .dataframe thead th {\n",
       "        text-align: right;\n",
       "    }\n",
       "</style>\n",
       "<table border=\"1\" class=\"dataframe\">\n",
       "  <thead>\n",
       "    <tr style=\"text-align: right;\">\n",
       "      <th></th>\n",
       "      <th>t_dat</th>\n",
       "      <th>customer_id</th>\n",
       "      <th>article_id</th>\n",
       "      <th>price</th>\n",
       "      <th>sales_channel_id</th>\n",
       "    </tr>\n",
       "  </thead>\n",
       "  <tbody>\n",
       "    <tr>\n",
       "      <th>0</th>\n",
       "      <td>2018-09-20</td>\n",
       "      <td>000058a12d5b43e67d225668fa1f8d618c13dc232df0ca...</td>\n",
       "      <td>663713001</td>\n",
       "      <td>0.050831</td>\n",
       "      <td>2</td>\n",
       "    </tr>\n",
       "    <tr>\n",
       "      <th>1</th>\n",
       "      <td>2018-09-20</td>\n",
       "      <td>000058a12d5b43e67d225668fa1f8d618c13dc232df0ca...</td>\n",
       "      <td>541518023</td>\n",
       "      <td>0.030492</td>\n",
       "      <td>2</td>\n",
       "    </tr>\n",
       "    <tr>\n",
       "      <th>2</th>\n",
       "      <td>2018-09-20</td>\n",
       "      <td>00007d2de826758b65a93dd24ce629ed66842531df6699...</td>\n",
       "      <td>505221004</td>\n",
       "      <td>0.015237</td>\n",
       "      <td>2</td>\n",
       "    </tr>\n",
       "    <tr>\n",
       "      <th>3</th>\n",
       "      <td>2018-09-20</td>\n",
       "      <td>00007d2de826758b65a93dd24ce629ed66842531df6699...</td>\n",
       "      <td>685687003</td>\n",
       "      <td>0.016932</td>\n",
       "      <td>2</td>\n",
       "    </tr>\n",
       "    <tr>\n",
       "      <th>4</th>\n",
       "      <td>2018-09-20</td>\n",
       "      <td>00007d2de826758b65a93dd24ce629ed66842531df6699...</td>\n",
       "      <td>685687004</td>\n",
       "      <td>0.016932</td>\n",
       "      <td>2</td>\n",
       "    </tr>\n",
       "  </tbody>\n",
       "</table>\n",
       "</div>"
      ],
      "text/plain": [
       "        t_dat                                        customer_id  article_id  \\\n",
       "0  2018-09-20  000058a12d5b43e67d225668fa1f8d618c13dc232df0ca...   663713001   \n",
       "1  2018-09-20  000058a12d5b43e67d225668fa1f8d618c13dc232df0ca...   541518023   \n",
       "2  2018-09-20  00007d2de826758b65a93dd24ce629ed66842531df6699...   505221004   \n",
       "3  2018-09-20  00007d2de826758b65a93dd24ce629ed66842531df6699...   685687003   \n",
       "4  2018-09-20  00007d2de826758b65a93dd24ce629ed66842531df6699...   685687004   \n",
       "\n",
       "      price  sales_channel_id  \n",
       "0  0.050831                 2  \n",
       "1  0.030492                 2  \n",
       "2  0.015237                 2  \n",
       "3  0.016932                 2  \n",
       "4  0.016932                 2  "
      ]
     },
     "execution_count": 4,
     "metadata": {},
     "output_type": "execute_result"
    }
   ],
   "source": [
    "transactions_df.head(5)"
   ]
  },
  {
   "cell_type": "markdown",
   "id": "c81922e4",
   "metadata": {},
   "source": [
    " From Dataset details, sales channel id, 2 is online and 1 store."
   ]
  },
  {
   "cell_type": "code",
   "execution_count": 6,
   "id": "975b2f58",
   "metadata": {},
   "outputs": [
    {
     "data": {
      "text/plain": [
       "'2020-09-22'"
      ]
     },
     "execution_count": 6,
     "metadata": {},
     "output_type": "execute_result"
    }
   ],
   "source": [
    "#last transaction date in dataset\n",
    "transactions_df.t_dat.max()"
   ]
  },
  {
   "cell_type": "code",
   "execution_count": 8,
   "id": "d20a1fda",
   "metadata": {},
   "outputs": [],
   "source": [
    "transaction_time = pd.to_datetime(transactions_df[\"t_dat\"])"
   ]
  },
  {
   "cell_type": "code",
   "execution_count": 16,
   "id": "462f0792",
   "metadata": {},
   "outputs": [],
   "source": [
    "#transaction_year = pd.to_datetime(transaction_time.dt.year)"
   ]
  },
  {
   "cell_type": "code",
   "execution_count": 14,
   "id": "a18d8708",
   "metadata": {},
   "outputs": [
    {
     "data": {
      "text/plain": [
       "t_dat           \n",
       "2018   399223001     7414\n",
       "       539723005     6724\n",
       "       562245001     6568\n",
       "2019   706016001    29869\n",
       "       706016002    22293\n",
       "       372860001    15553\n",
       "2020   706016001    18208\n",
       "       610776002    13886\n",
       "       751471001    12828\n",
       "Name: article_id, dtype: int64"
      ]
     },
     "execution_count": 14,
     "metadata": {},
     "output_type": "execute_result"
    }
   ],
   "source": [
    "#Top three article ids bought in the three years\n",
    "top3_year_article_table = transactions_df.groupby([transaction_time.dt.year]).apply(lambda x : x['article_id'].value_counts().head(3))\n",
    "top3_year_article_table"
   ]
  },
  {
   "cell_type": "code",
   "execution_count": 20,
   "id": "73e88b69",
   "metadata": {},
   "outputs": [
    {
     "data": {
      "text/plain": [
       "t_dat           \n",
       "1      689109001    5715\n",
       "       706016001    5453\n",
       "       692930001    4314\n",
       "2      706016001    4499\n",
       "       706016002    3641\n",
       "       372860001    2902\n",
       "3      706016001    5122\n",
       "       706016002    3872\n",
       "       372860001    2768\n",
       "4      610776002    5213\n",
       "       599580055    5154\n",
       "       741356002    4552\n",
       "5      741356002    4074\n",
       "       610776002    3943\n",
       "       688537004    3889\n",
       "6      759871002    4613\n",
       "       758064001    4362\n",
       "       749699002    4071\n",
       "7      759871002    4550\n",
       "       717490008    3936\n",
       "       706016001    3482\n",
       "8      751471001    3943\n",
       "       706016001    3736\n",
       "       783346001    2709\n",
       "9      706016001    5325\n",
       "       673677002    4142\n",
       "       751471001    3535\n",
       "10     399223001    4294\n",
       "       673677002    3692\n",
       "       484398001    3080\n",
       "11     706016001    4934\n",
       "       673677002    3923\n",
       "       562245001    3842\n",
       "12     706016001    4960\n",
       "       158340001    3561\n",
       "       156231001    3291\n",
       "Name: article_id, dtype: int64"
      ]
     },
     "execution_count": 20,
     "metadata": {},
     "output_type": "execute_result"
    }
   ],
   "source": [
    "#Top three article ids bought in the months\n",
    "top3_month_article_table =  transactions_df.groupby([transaction_time.dt.month]).apply(lambda x : x['article_id'].value_counts().head(3))\n",
    "top3_month_article_table"
   ]
  },
  {
   "cell_type": "code",
   "execution_count": 22,
   "id": "da5d8dc1",
   "metadata": {},
   "outputs": [
    {
     "data": {
      "text/plain": [
       "[918522001,\n",
       " 909370001,\n",
       " 751471001,\n",
       " 924243001,\n",
       " 918292001,\n",
       " 915529003,\n",
       " 915526001,\n",
       " 751471043,\n",
       " 448509014,\n",
       " 706016001,\n",
       " 863595006,\n",
       " 865799006]"
      ]
     },
     "execution_count": 22,
     "metadata": {},
     "output_type": "execute_result"
    }
   ],
   "source": [
    "#Top 12 items bought in the last 3 weeks since the last date of the dataset(2020-09-22)\n",
    "\n",
    "top_12_items = transactions_df[transactions_df['t_dat'] > '2020-09-01'].groupby('article_id')['customer_id'].nunique().sort_values(ascending=False).head(12)\n",
    "top_12_items.index.values.tolist()"
   ]
  },
  {
   "cell_type": "code",
   "execution_count": 33,
   "id": "d3ce21cc",
   "metadata": {
    "scrolled": true
   },
   "outputs": [
    {
     "data": {
      "text/plain": [
       "706016001    50287\n",
       "706016002    35043\n",
       "372860001    31718\n",
       "610776002    30199\n",
       "759871002    26329\n",
       "             ...  \n",
       "520736002        1\n",
       "619777003        1\n",
       "586904003        1\n",
       "512385003        1\n",
       "533261032        1\n",
       "Name: article_id, Length: 104547, dtype: int64"
      ]
     },
     "execution_count": 33,
     "metadata": {},
     "output_type": "execute_result"
    }
   ],
   "source": [
    "transactions_df.article_id.value_counts()"
   ]
  },
  {
   "cell_type": "code",
   "execution_count": 28,
   "id": "a8d9d68b",
   "metadata": {},
   "outputs": [],
   "source": [
    "#give article_id\n",
    "#find which customer bought it\n",
    "#How many times? \n",
    "#Which month was it bought the most? \n",
    "#Which other products were bought on that time? \n",
    "\n",
    "def check_details(id):\n",
    "    times_bought = transactions_df.id.value_counts()\n",
    "    return times_bought\n",
    "    \n"
   ]
  },
  {
   "cell_type": "code",
   "execution_count": null,
   "id": "808c8a12",
   "metadata": {},
   "outputs": [],
   "source": []
  }
 ],
 "metadata": {
  "kernelspec": {
   "display_name": "Python 3 (ipykernel)",
   "language": "python",
   "name": "python3"
  },
  "language_info": {
   "codemirror_mode": {
    "name": "ipython",
    "version": 3
   },
   "file_extension": ".py",
   "mimetype": "text/x-python",
   "name": "python",
   "nbconvert_exporter": "python",
   "pygments_lexer": "ipython3",
   "version": "3.9.13"
  }
 },
 "nbformat": 4,
 "nbformat_minor": 5
}
